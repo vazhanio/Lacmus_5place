{
  "nbformat": 4,
  "nbformat_minor": 0,
  "metadata": {
    "colab": {
      "name": "Untitled0.ipynb",
      "provenance": [],
      "collapsed_sections": []
    },
    "kernelspec": {
      "name": "python3",
      "display_name": "Python 3"
    },
    "language_info": {
      "name": "python"
    },
    "accelerator": "GPU"
  },
  "cells": [
    {
      "cell_type": "markdown",
      "metadata": {
        "id": "i_02UuMP_B4G"
      },
      "source": [
        "Пятое место соревнования -> https://ods.ai/competitions/lacmus-cvc-soc2021\n",
        "\n",
        "Решение основанно на YOLO v5 -> https://github.com/ultralytics/yolov5\n",
        "Оснвоная работа была проделанна над поиском гиперпараметров и выборе размера нейросети \n",
        "\n",
        "Что не сработало:\n",
        "\n",
        "-не сработали более тяжёлые версии yolov5m, yolov5l\n",
        "\n",
        "-не сработало обучение на предворительно кропнутых изображениях\n",
        "\n"
      ]
    },
    {
      "cell_type": "code",
      "metadata": {
        "id": "tN8DgZi3_XoC"
      },
      "source": [
        "from google_drive_downloader import GoogleDriveDownloader as gdd\n",
        "import os\n",
        "import shutil\n",
        "import xml.etree.ElementTree as ET\n",
        "import cv2"
      ],
      "execution_count": 1,
      "outputs": []
    },
    {
      "cell_type": "markdown",
      "metadata": {
        "id": "mgOjeFiYWWoQ"
      },
      "source": [
        "Загрузка датасета (data_lacmus.zip). Распаковка, конвертирвоание разметки в формат YOLO. Загрузка лучших весов(lacmus_settins.zip).\n"
      ]
    },
    {
      "cell_type": "code",
      "metadata": {
        "id": "zB4Gjcbq_zt3"
      },
      "source": [
        "# !rm -r ./github.com/\n",
        "# !rm -r ./lacmus_settings/\n",
        "# !rm -r ./data/\n",
        "# !rm -r ./predict/"
      ],
      "execution_count": 2,
      "outputs": []
    },
    {
      "cell_type": "code",
      "metadata": {
        "colab": {
          "base_uri": "https://localhost:8080/"
        },
        "id": "RPbmKeftUWBM",
        "outputId": "4715d52a-98ed-44da-82cf-46537d88ee1d"
      },
      "source": [
        "%%time\n",
        "#Примерное время выполнение -> 8 минут\n",
        "gdd.download_file_from_google_drive(file_id='1V94GWXpTh-OgajEA40vUBNEiASvKYVG0',\n",
        "                                    dest_path='./data/data_lacmus.zip',\n",
        "                                    unzip=True)\n",
        "!rm ./data/data_lacmus.zip\n",
        "gdd.download_file_from_google_drive(file_id='1CoOySjzzLLmSwY2z6nkaY0pA2VFDG7bb',\n",
        "                                    dest_path='./lacmus_settngs.zip',\n",
        "                                    unzip=True)\n",
        "!rm ./lacmus_settngs.zip\n"
      ],
      "execution_count": 3,
      "outputs": [
        {
          "output_type": "stream",
          "name": "stdout",
          "text": [
            "Downloading 1V94GWXpTh-OgajEA40vUBNEiASvKYVG0 into ./data/data_lacmus.zip... Done.\n",
            "Unzipping...Done.\n",
            "Downloading 1CoOySjzzLLmSwY2z6nkaY0pA2VFDG7bb into ./lacmus_settngs.zip... Done.\n",
            "Unzipping...Done.\n",
            "CPU times: user 1min 12s, sys: 45.5 s, total: 1min 58s\n",
            "Wall time: 7min 44s\n"
          ]
        }
      ]
    },
    {
      "cell_type": "code",
      "metadata": {
        "id": "VaXi6BxvN8M4"
      },
      "source": [
        "def get_imgSize_and_list_of_yxyx(xml_path):\n",
        "    mytree = ET.parse(xml_path)\n",
        "    people=[e for e in  list(mytree.iter()) if e.tag==\"object\" ]\n",
        "    xyxy=[]\n",
        "    for p in people:\n",
        "        y1=int(p[4][0].text)\n",
        "        x1=int(p[4][1].text)\n",
        "        y2=int(p[4][2].text)\n",
        "        x2=int(p[4][3].text)\n",
        "        xyxy.append(((x1,y1),(x2,y2)))\n",
        "    size_object=mytree.find(\"size\")\n",
        "    size=(int(size_object[1].text),int(size_object[0].text))\n",
        "    return size, xyxy\n",
        "def get_xywh_from_point(size,points):\n",
        "    w,h=size\n",
        "    x=((points[0][0]+points[1][0])/2)/w\n",
        "    y=((points[0][1]+points[1][1])/2)/h\n",
        "    im_w=abs((points[0][0]-points[1][0]))/w\n",
        "    im_h=abs((points[0][1]-points[1][1]))/h\n",
        "    return x,y,im_w,im_h"
      ],
      "execution_count": 4,
      "outputs": []
    },
    {
      "cell_type": "code",
      "metadata": {
        "colab": {
          "base_uri": "https://localhost:8080/"
        },
        "id": "UiYPwPOcN8HZ",
        "outputId": "758b6dd1-9618-4235-eb83-67241ab893b9"
      },
      "source": [
        "%%time\n",
        "anotation_path='./data/TrainingData/Annotations'\n",
        "labels_dir='./data/TrainingData/labels'\n",
        "os.makedirs(labels_dir,exist_ok=True)\n",
        "for xml_name in os.listdir(anotation_path):\n",
        "  id,_ = os.path.splitext(xml_name)\n",
        "  img_size, points_yxyx=get_imgSize_and_list_of_yxyx(os.path.join(anotation_path,xml_name))\n",
        "  xywhs=[get_xywh_from_point(img_size,xyxy_single) for xyxy_single in points_yxyx]\n",
        "  f=open(os.path.join(labels_dir,id+'.txt'),'w')\n",
        "  for box in xywhs:\n",
        "    f.write(\" \".join(['0',*map(str,box)])+'\\n')\n",
        "  f.close()"
      ],
      "execution_count": 6,
      "outputs": [
        {
          "output_type": "stream",
          "name": "stdout",
          "text": [
            "CPU times: user 219 ms, sys: 115 ms, total: 334 ms\n",
            "Wall time: 339 ms\n"
          ]
        }
      ]
    },
    {
      "cell_type": "code",
      "metadata": {
        "id": "Eo_CqtA-D8vD",
        "colab": {
          "base_uri": "https://localhost:8080/"
        },
        "outputId": "7d241124-17c4-4ab8-e0de-2c704402a605"
      },
      "source": [
        "%%time\n",
        "#Примерное время выполнение -> 3 минуты\n",
        "dataset_images_path='./data/images'\n",
        "dataset_labels_path='./data/labels'\n",
        "os.makedirs(dataset_images_path,exist_ok=True)\n",
        "os.makedirs(dataset_labels_path, exist_ok=True)\n",
        "train_file=open('./data/TrainingData/ImageSets/Main/train.txt','r')\n",
        "for id in train_file.readlines():\n",
        "  id=id.strip()\n",
        "  images_train_path=os.path.join(dataset_images_path,'train')\n",
        "  labels_train_path=os.path.join(dataset_labels_path,'train')\n",
        "  os.makedirs(images_train_path,exist_ok=True)  \n",
        "  os.makedirs(labels_train_path,exist_ok=True)\n",
        "  shutil.copy(os.path.join('./data/TrainingData/JPEGImages',id+'.jpg')\n",
        "              ,os.path.join(images_train_path,id+'.jpg'))\n",
        "  shutil.copy(os.path.join('./data/TrainingData/labels/',id+'.txt')\n",
        "              ,os.path.join(labels_train_path,id+'.txt'))    \n",
        "  \n",
        "val_file=open('./data/TrainingData/ImageSets/Main/val.txt','r')\n",
        "for id in val_file.readlines():\n",
        "  id=id.strip()\n",
        "  images_train_path=os.path.join(dataset_images_path,'valid')\n",
        "  labels_train_path=os.path.join(dataset_labels_path,'valid')\n",
        "  os.makedirs(images_train_path,exist_ok=True)  \n",
        "  os.makedirs(labels_train_path,exist_ok=True)\n",
        "  shutil.move(os.path.join('./data/TrainingData/JPEGImages',id+'.jpg')\n",
        "              ,os.path.join(images_train_path,id+'.jpg'))\n",
        "  shutil.move(os.path.join('./data/TrainingData/labels/',id+'.txt')\n",
        "              ,os.path.join(labels_train_path,id+'.txt'))    \n",
        "  "
      ],
      "execution_count": 7,
      "outputs": [
        {
          "output_type": "stream",
          "name": "stdout",
          "text": [
            "CPU times: user 2.82 s, sys: 11.8 s, total: 14.7 s\n",
            "Wall time: 2min 37s\n"
          ]
        }
      ]
    },
    {
      "cell_type": "markdown",
      "metadata": {
        "id": "ZCVA1oOWrdeq"
      },
      "source": [
        "Клонирование YOLO5 и обучение с выбраными гиперпараметрами"
      ]
    },
    {
      "cell_type": "code",
      "metadata": {
        "id": "l1WahnGlN8Es",
        "colab": {
          "base_uri": "https://localhost:8080/"
        },
        "outputId": "28baa41d-5537-4ddd-b7bb-861d593f2da6"
      },
      "source": [
        "%%time\n",
        "!git clone https://github.com/ultralytics/yolov5 "
      ],
      "execution_count": 8,
      "outputs": [
        {
          "output_type": "stream",
          "name": "stdout",
          "text": [
            "Cloning into 'yolov5'...\n",
            "remote: Enumerating objects: 9237, done.\u001b[K\n",
            "remote: Counting objects: 100% (32/32), done.\u001b[K\n",
            "remote: Compressing objects: 100% (30/30), done.\u001b[K\n",
            "remote: Total 9237 (delta 13), reused 13 (delta 2), pack-reused 9205\u001b[K\n",
            "Receiving objects: 100% (9237/9237), 9.73 MiB | 23.54 MiB/s, done.\n",
            "Resolving deltas: 100% (6401/6401), done.\n",
            "CPU times: user 38 ms, sys: 8.92 ms, total: 46.9 ms\n",
            "Wall time: 2.23 s\n"
          ]
        }
      ]
    },
    {
      "cell_type": "code",
      "metadata": {
        "id": "IcYoYE4yN8Cs",
        "colab": {
          "base_uri": "https://localhost:8080/"
        },
        "outputId": "74718661-4b12-47e1-d230-6a7186f971cb"
      },
      "source": [
        "!python yolov5/train.py --hyp ./lacmus_settings/hyp_lacmus.yaml --batch-size 2 --worker 2 --data ./lacmus_settings/dataset_lacmus.yaml --weights yolov5s.pt --imgsz 1984 --epochs 10\n"
      ],
      "execution_count": 10,
      "outputs": [
        {
          "output_type": "stream",
          "name": "stdout",
          "text": [
            "\u001b[34m\u001b[1mtrain: \u001b[0mweights=yolov5s.pt, cfg=, data=./lacmus_settings/dataset_lacmus.yaml, hyp=./lacmus_settings/hyp_lacmus.yaml, epochs=10, batch_size=2, imgsz=1984, rect=False, resume=False, nosave=False, noval=False, noautoanchor=False, evolve=None, bucket=, cache=None, image_weights=False, device=, multi_scale=False, single_cls=False, adam=False, sync_bn=False, workers=2, project=runs/train, entity=None, name=exp, exist_ok=False, quad=False, linear_lr=False, label_smoothing=0.0, upload_dataset=False, bbox_interval=-1, save_period=-1, artifact_alias=latest, local_rank=-1, freeze=0, patience=100\n",
            "\u001b[34m\u001b[1mgithub: \u001b[0mskipping check (not a git repository), for updates see https://github.com/ultralytics/yolov5\n",
            "YOLOv5 🚀 v5.0-414-g0d8a184 torch 1.9.0+cu102 CUDA:0 (Tesla K80, 11441.1875MB)\n",
            "\n",
            "\u001b[34m\u001b[1mhyperparameters: \u001b[0mlr0=0.01, lrf=0.2, momentum=0.937, weight_decay=0.0005, warmup_epochs=3.0, warmup_momentum=0.8, warmup_bias_lr=0.1, box=0.05, cls=0.5, cls_pw=1.0, obj=1.0, obj_pw=1.0, iou_t=0.2, anchor_t=4.0, fl_gamma=0.0, hsv_h=0.015, hsv_s=0.7, hsv_v=0.4, degrees=0.0, translate=0.1, scale=0.5, shear=0.0, perspective=0.0, flipud=0.5, fliplr=0.5, mosaic=1.0, mixup=0.0, copy_paste=0.0\n",
            "\u001b[34m\u001b[1mWeights & Biases: \u001b[0mrun 'pip install wandb' to automatically track and visualize YOLOv5 🚀 runs (RECOMMENDED)\n",
            "\u001b[34m\u001b[1mTensorBoard: \u001b[0mStart with 'tensorboard --logdir runs/train', view at http://localhost:6006/\n",
            "Downloading https://github.com/ultralytics/yolov5/releases/download/v5.0/yolov5s.pt to yolov5s.pt...\n",
            "100% 14.1M/14.1M [00:00<00:00, 89.6MB/s]\n",
            "\n",
            "Overriding model.yaml nc=80 with nc=1\n",
            "\n",
            "                 from  n    params  module                                  arguments                     \n",
            "  0                -1  1      3520  models.common.Focus                     [3, 32, 3]                    \n",
            "  1                -1  1     18560  models.common.Conv                      [32, 64, 3, 2]                \n",
            "  2                -1  1     18816  models.common.C3                        [64, 64, 1]                   \n",
            "  3                -1  1     73984  models.common.Conv                      [64, 128, 3, 2]               \n",
            "  4                -1  3    156928  models.common.C3                        [128, 128, 3]                 \n",
            "  5                -1  1    295424  models.common.Conv                      [128, 256, 3, 2]              \n",
            "  6                -1  3    625152  models.common.C3                        [256, 256, 3]                 \n",
            "  7                -1  1   1180672  models.common.Conv                      [256, 512, 3, 2]              \n",
            "  8                -1  1    656896  models.common.SPP                       [512, 512, [5, 9, 13]]        \n",
            "  9                -1  1   1182720  models.common.C3                        [512, 512, 1, False]          \n",
            " 10                -1  1    131584  models.common.Conv                      [512, 256, 1, 1]              \n",
            " 11                -1  1         0  torch.nn.modules.upsampling.Upsample    [None, 2, 'nearest']          \n",
            " 12           [-1, 6]  1         0  models.common.Concat                    [1]                           \n",
            " 13                -1  1    361984  models.common.C3                        [512, 256, 1, False]          \n",
            " 14                -1  1     33024  models.common.Conv                      [256, 128, 1, 1]              \n",
            " 15                -1  1         0  torch.nn.modules.upsampling.Upsample    [None, 2, 'nearest']          \n",
            " 16           [-1, 4]  1         0  models.common.Concat                    [1]                           \n",
            " 17                -1  1     90880  models.common.C3                        [256, 128, 1, False]          \n",
            " 18                -1  1    147712  models.common.Conv                      [128, 128, 3, 2]              \n",
            " 19          [-1, 14]  1         0  models.common.Concat                    [1]                           \n",
            " 20                -1  1    296448  models.common.C3                        [256, 256, 1, False]          \n",
            " 21                -1  1    590336  models.common.Conv                      [256, 256, 3, 2]              \n",
            " 22          [-1, 10]  1         0  models.common.Concat                    [1]                           \n",
            " 23                -1  1   1182720  models.common.C3                        [512, 512, 1, False]          \n",
            " 24      [17, 20, 23]  1     16182  models.yolo.Detect                      [1, [[10, 13, 16, 30, 33, 23], [30, 61, 62, 45, 59, 119], [116, 90, 156, 198, 373, 326]], [128, 256, 512]]\n",
            "Model Summary: 283 layers, 7063542 parameters, 7063542 gradients\n",
            "\n",
            "Transferred 356/362 items from yolov5s.pt\n",
            "Scaled weight_decay = 0.0005\n",
            "\u001b[34m\u001b[1moptimizer:\u001b[0m SGD with parameter groups 59 weight, 62 weight (no decay), 62 bias\n",
            "\u001b[34m\u001b[1malbumentations: \u001b[0mversion 1.0.3 required by YOLOv5, but version 0.1.12 is currently installed\n",
            "\u001b[34m\u001b[1mtrain: \u001b[0mScanning 'data/labels/train' images and labels...1020 found, 0 missing, 33 empty, 0 corrupted: 100% 1020/1020 [00:04<00:00, 252.90it/s]\n",
            "\u001b[34m\u001b[1mtrain: \u001b[0mNew cache created: data/labels/train.cache\n",
            "\u001b[34m\u001b[1mval: \u001b[0mScanning 'data/labels/valid' images and labels...200 found, 0 missing, 7 empty, 0 corrupted: 100% 200/200 [00:01<00:00, 136.83it/s]\n",
            "\u001b[34m\u001b[1mval: \u001b[0mNew cache created: data/labels/valid.cache\n",
            "[W pthreadpool-cpp.cc:90] Warning: Leaking Caffe2 thread-pool after fork. (function pthreadpool)\n",
            "[W pthreadpool-cpp.cc:90] Warning: Leaking Caffe2 thread-pool after fork. (function pthreadpool)\n",
            "Plotting labels... \n",
            "\n",
            "\u001b[34m\u001b[1mautoanchor: \u001b[0mAnalyzing anchors... anchors/target = 5.45, Best Possible Recall (BPR) = 1.0000\n",
            "Image sizes 1984 train, 1984 val\n",
            "Using 2 dataloader workers\n",
            "Logging results to \u001b[1mruns/train/exp2\u001b[0m\n",
            "Starting training for 10 epochs...\n",
            "\n",
            "     Epoch   gpu_mem       box       obj       cls    labels  img_size\n",
            "       0/9      3.9G    0.1199    0.1665         0         3      1984:   2% 8/510 [00:19<18:51,  2.25s/it]Traceback (most recent call last):\n",
            "  File \"/usr/local/lib/python3.7/dist-packages/tqdm/std.py\", line 1185, in __iter__\n",
            "    for obj in iterable:\n",
            "  File \"/content/yolov5/utils/datasets.py\", line 139, in __iter__\n",
            "    yield next(self.iterator)\n",
            "  File \"/usr/local/lib/python3.7/dist-packages/torch/utils/data/dataloader.py\", line 521, in __next__\n",
            "    data = self._next_data()\n",
            "  File \"/usr/local/lib/python3.7/dist-packages/torch/utils/data/dataloader.py\", line 1186, in _next_data\n",
            "    idx, data = self._get_data()\n",
            "  File \"/usr/local/lib/python3.7/dist-packages/torch/utils/data/dataloader.py\", line 1142, in _get_data\n",
            "    success, data = self._try_get_data()\n",
            "  File \"/usr/local/lib/python3.7/dist-packages/torch/utils/data/dataloader.py\", line 990, in _try_get_data\n",
            "    data = self._data_queue.get(timeout=timeout)\n",
            "  File \"/usr/lib/python3.7/queue.py\", line 179, in get\n",
            "    self.not_empty.wait(remaining)\n",
            "  File \"/usr/lib/python3.7/threading.py\", line 300, in wait\n",
            "    gotit = waiter.acquire(True, timeout)\n",
            "KeyboardInterrupt\n",
            "\n",
            "During handling of the above exception, another exception occurred:\n",
            "\n",
            "Traceback (most recent call last):\n",
            "  File \"yolov5/train.py\", line 611, in <module>\n",
            "    main(opt)\n",
            "  File \"yolov5/train.py\", line 509, in main\n",
            "    train(opt.hyp, opt, device, callbacks)\n",
            "  File \"yolov5/train.py\", line 286, in train\n",
            "    for i, (imgs, targets, paths, _) in pbar:  # batch -------------------------------------------------------------\n",
            "  File \"/usr/local/lib/python3.7/dist-packages/tqdm/std.py\", line 1200, in __iter__\n",
            "    self.close()\n",
            "  File \"/usr/local/lib/python3.7/dist-packages/tqdm/std.py\", line 1279, in close\n",
            "    self._decr_instances(self)\n",
            "  File \"/usr/local/lib/python3.7/dist-packages/tqdm/std.py\", line 614, in _decr_instances\n",
            "    inst.pos = abs(instance.pos)\n",
            "  File \"/usr/local/lib/python3.7/dist-packages/tqdm/std.py\", line 116, in __exit__\n",
            "    self.release()\n",
            "  File \"/usr/local/lib/python3.7/dist-packages/tqdm/std.py\", line 109, in release\n",
            "    for lock in self.locks[::-1]:  # Release in inverse order of acquisition\n",
            "KeyboardInterrupt\n"
          ]
        }
      ]
    },
    {
      "cell_type": "markdown",
      "metadata": {
        "id": "RZ8fNged7Qyj"
      },
      "source": [
        "Предсказание с использование лучших весов."
      ]
    },
    {
      "cell_type": "code",
      "metadata": {
        "id": "lLDA5fBVN79U",
        "colab": {
          "base_uri": "https://localhost:8080/"
        },
        "outputId": "0acd52bb-d11b-46b5-b5a6-004e0aeb52aa"
      },
      "source": [
        "!python yolov5/detect.py --augment --weights ./lacmus_settings/best_lacmus.pt --source ./data/EmptyPart/ --imgsz 1984 --conf-thres 0.05 --iou-thres 0.01 --project predict --nosave --save-txt --save-conf"
      ],
      "execution_count": 11,
      "outputs": [
        {
          "output_type": "stream",
          "name": "stdout",
          "text": [
            "\u001b[34m\u001b[1mdetect: \u001b[0mweights=['./lacmus_settings/best_lacmus.pt'], source=./data/EmptyPart/, imgsz=[1984, 1984], conf_thres=0.05, iou_thres=0.01, max_det=1000, device=, view_img=False, save_txt=True, save_conf=True, save_crop=False, nosave=True, classes=None, agnostic_nms=False, augment=True, visualize=False, update=False, project=predict, name=exp, exist_ok=False, line_thickness=3, hide_labels=False, hide_conf=False, half=False\n",
            "\u001b[31m\u001b[1mrequirements:\u001b[0m /content/requirements.txt not found, check failed.\n",
            "YOLOv5 🚀 v5.0-414-g0d8a184 torch 1.9.0+cu102 CUDA:0 (Tesla K80, 11441.1875MB)\n",
            "\n",
            "Fusing layers... \n",
            "Model Summary: 224 layers, 7053910 parameters, 0 gradients\n",
            "image 1/235 /content/data/EmptyPart/0.jpg: 1504x1984 3 persons, Done. (0.348s)\n",
            "image 2/235 /content/data/EmptyPart/1.jpg: 1504x1984 4 persons, Done. (0.306s)\n",
            "image 3/235 /content/data/EmptyPart/10.jpg: 1120x1984 2 persons, Done. (0.225s)\n",
            "image 4/235 /content/data/EmptyPart/100.jpg: 1504x1984 1 person, Done. (0.287s)\n",
            "image 5/235 /content/data/EmptyPart/101.jpg: 1120x1984 3 persons, Done. (0.235s)\n",
            "image 6/235 /content/data/EmptyPart/102.jpg: 1504x1984 1 person, Done. (0.293s)\n",
            "image 7/235 /content/data/EmptyPart/103.jpg: 1504x1984 4 persons, Done. (0.294s)\n",
            "image 8/235 /content/data/EmptyPart/104.jpg: 1504x1984 1 person, Done. (0.295s)\n",
            "image 9/235 /content/data/EmptyPart/105.jpg: 1504x1984 9 persons, Done. (0.285s)\n",
            "image 10/235 /content/data/EmptyPart/106.jpg: 1504x1984 2 persons, Done. (0.295s)\n",
            "image 11/235 /content/data/EmptyPart/107.jpg: 1120x1984 1 person, Done. (0.231s)\n",
            "image 12/235 /content/data/EmptyPart/108.jpg: 1504x1984 1 person, Done. (0.284s)\n",
            "image 13/235 /content/data/EmptyPart/109.jpg: 1504x1984 4 persons, Done. (0.292s)\n",
            "image 14/235 /content/data/EmptyPart/11.jpg: 1504x1984 1 person, Done. (0.291s)\n",
            "image 15/235 /content/data/EmptyPart/110.jpg: 1120x1984 8 persons, Done. (0.233s)\n",
            "image 16/235 /content/data/EmptyPart/111.jpg: 1504x1984 1 person, Done. (0.301s)\n",
            "image 17/235 /content/data/EmptyPart/112.jpg: 1504x1984 8 persons, Done. (0.295s)\n",
            "image 18/235 /content/data/EmptyPart/113.jpg: 1504x1984 4 persons, Done. (0.295s)\n",
            "image 19/235 /content/data/EmptyPart/114.jpg: 1504x1984 8 persons, Done. (0.291s)\n",
            "image 20/235 /content/data/EmptyPart/115.jpg: 1504x1984 7 persons, Done. (0.298s)\n",
            "image 21/235 /content/data/EmptyPart/116.jpg: 1504x1984 6 persons, Done. (0.298s)\n",
            "image 22/235 /content/data/EmptyPart/117.jpg: 1504x1984 2 persons, Done. (0.298s)\n",
            "image 23/235 /content/data/EmptyPart/118.jpg: 1504x1984 5 persons, Done. (0.295s)\n",
            "image 24/235 /content/data/EmptyPart/119.jpg: 1504x1984 1 person, Done. (0.295s)\n",
            "image 25/235 /content/data/EmptyPart/12.jpg: 1120x1984 2 persons, Done. (0.228s)\n",
            "image 26/235 /content/data/EmptyPart/120.jpg: 1504x1984 Done. (0.296s)\n",
            "image 27/235 /content/data/EmptyPart/121.jpg: 1504x1984 8 persons, Done. (0.296s)\n",
            "image 28/235 /content/data/EmptyPart/122.jpg: 1504x1984 2 persons, Done. (0.294s)\n",
            "image 29/235 /content/data/EmptyPart/123.jpg: 1120x1984 4 persons, Done. (0.219s)\n",
            "image 30/235 /content/data/EmptyPart/124.jpg: 1504x1984 9 persons, Done. (0.284s)\n",
            "image 31/235 /content/data/EmptyPart/125.jpg: 1120x1984 9 persons, Done. (0.227s)\n",
            "image 32/235 /content/data/EmptyPart/126.jpg: 1504x1984 1 person, Done. (0.294s)\n",
            "image 33/235 /content/data/EmptyPart/127.jpg: 1504x1984 2 persons, Done. (0.298s)\n",
            "image 34/235 /content/data/EmptyPart/128.jpg: 1504x1984 2 persons, Done. (0.291s)\n",
            "image 35/235 /content/data/EmptyPart/129.jpg: 1120x1984 1 person, Done. (0.224s)\n",
            "image 36/235 /content/data/EmptyPart/13.jpg: 1504x1984 3 persons, Done. (0.278s)\n",
            "image 37/235 /content/data/EmptyPart/130.jpg: 1504x1984 3 persons, Done. (0.295s)\n",
            "image 38/235 /content/data/EmptyPart/131.jpg: 1504x1984 6 persons, Done. (0.296s)\n",
            "image 39/235 /content/data/EmptyPart/132.jpg: 1120x1984 1 person, Done. (0.229s)\n",
            "image 40/235 /content/data/EmptyPart/133.jpg: 1504x1984 3 persons, Done. (0.291s)\n",
            "image 41/235 /content/data/EmptyPart/134.jpg: 1120x1984 Done. (0.224s)\n",
            "image 42/235 /content/data/EmptyPart/135.jpg: 1504x1984 3 persons, Done. (0.283s)\n",
            "image 43/235 /content/data/EmptyPart/136.jpg: 1120x1984 Done. (0.223s)\n",
            "image 44/235 /content/data/EmptyPart/137.jpg: 1120x1984 2 persons, Done. (0.212s)\n",
            "image 45/235 /content/data/EmptyPart/138.jpg: 1504x1984 4 persons, Done. (0.280s)\n",
            "image 46/235 /content/data/EmptyPart/139.jpg: 1504x1984 1 person, Done. (0.291s)\n",
            "image 47/235 /content/data/EmptyPart/14.jpg: 1120x1984 4 persons, Done. (0.228s)\n",
            "image 48/235 /content/data/EmptyPart/140.jpg: 1120x1984 2 persons, Done. (0.228s)\n",
            "image 49/235 /content/data/EmptyPart/141.jpg: 1504x1984 2 persons, Done. (0.292s)\n",
            "image 50/235 /content/data/EmptyPart/142.jpg: 1504x1984 2 persons, Done. (0.295s)\n",
            "image 51/235 /content/data/EmptyPart/143.jpg: 1504x1984 6 persons, Done. (0.284s)\n",
            "image 52/235 /content/data/EmptyPart/144.jpg: 1504x1984 1 person, Done. (0.292s)\n",
            "image 53/235 /content/data/EmptyPart/145.jpg: 1504x1984 2 persons, Done. (0.295s)\n",
            "image 54/235 /content/data/EmptyPart/146.jpg: 1344x1984 2 persons, Done. (0.273s)\n",
            "image 55/235 /content/data/EmptyPart/147.jpg: 1504x1984 4 persons, Done. (0.299s)\n",
            "image 56/235 /content/data/EmptyPart/148.jpg: 1504x1984 2 persons, Done. (0.291s)\n",
            "image 57/235 /content/data/EmptyPart/149.jpg: 1120x1984 1 person, Done. (0.225s)\n",
            "image 58/235 /content/data/EmptyPart/15.jpg: 1504x1984 8 persons, Done. (0.277s)\n",
            "image 59/235 /content/data/EmptyPart/150.jpg: 1504x1984 8 persons, Done. (0.296s)\n",
            "image 60/235 /content/data/EmptyPart/151.jpg: 1120x1984 2 persons, Done. (0.226s)\n",
            "image 61/235 /content/data/EmptyPart/152.jpg: 1120x1984 1 person, Done. (0.226s)\n",
            "image 62/235 /content/data/EmptyPart/153.jpg: 1344x1984 1 person, Done. (0.259s)\n",
            "image 63/235 /content/data/EmptyPart/154.jpg: 1504x1984 2 persons, Done. (0.294s)\n",
            "image 64/235 /content/data/EmptyPart/155.jpg: 1504x1984 2 persons, Done. (0.300s)\n",
            "image 65/235 /content/data/EmptyPart/156.jpg: 1504x1984 3 persons, Done. (0.295s)\n",
            "image 66/235 /content/data/EmptyPart/157.jpg: 1504x1984 2 persons, Done. (0.289s)\n",
            "image 67/235 /content/data/EmptyPart/158.jpg: 1504x1984 Done. (0.295s)\n",
            "image 68/235 /content/data/EmptyPart/159.jpg: 1504x1984 8 persons, Done. (0.289s)\n",
            "image 69/235 /content/data/EmptyPart/16.jpg: 1504x1984 2 persons, Done. (0.294s)\n",
            "image 70/235 /content/data/EmptyPart/160.jpg: 1504x1984 7 persons, Done. (0.279s)\n",
            "image 71/235 /content/data/EmptyPart/161.jpg: 1504x1984 9 persons, Done. (0.288s)\n",
            "image 72/235 /content/data/EmptyPart/162.jpg: 1504x1984 7 persons, Done. (0.285s)\n",
            "image 73/235 /content/data/EmptyPart/163.jpg: 1504x1984 4 persons, Done. (0.291s)\n",
            "image 74/235 /content/data/EmptyPart/164.jpg: 1120x1984 Done. (0.228s)\n",
            "image 75/235 /content/data/EmptyPart/165.jpg: 1504x1984 1 person, Done. (0.292s)\n",
            "image 76/235 /content/data/EmptyPart/166.jpg: 1504x1984 8 persons, Done. (0.296s)\n",
            "image 77/235 /content/data/EmptyPart/167.jpg: 1504x1984 3 persons, Done. (0.296s)\n",
            "image 78/235 /content/data/EmptyPart/168.jpg: 1504x1984 3 persons, Done. (0.289s)\n",
            "image 79/235 /content/data/EmptyPart/169.jpg: 1504x1984 3 persons, Done. (0.287s)\n",
            "image 80/235 /content/data/EmptyPart/17.jpg: 1504x1984 8 persons, Done. (0.287s)\n",
            "image 81/235 /content/data/EmptyPart/170.jpg: 1120x1984 Done. (0.219s)\n",
            "image 82/235 /content/data/EmptyPart/171.jpg: 1504x1984 3 persons, Done. (0.288s)\n",
            "image 83/235 /content/data/EmptyPart/172.jpg: 1120x1984 1 person, Done. (0.230s)\n",
            "image 84/235 /content/data/EmptyPart/173.jpg: 1120x1984 1 person, Done. (0.218s)\n",
            "image 85/235 /content/data/EmptyPart/174.jpg: 1504x1984 5 persons, Done. (0.278s)\n",
            "image 86/235 /content/data/EmptyPart/175.jpg: 1504x1984 3 persons, Done. (0.293s)\n",
            "image 87/235 /content/data/EmptyPart/176.jpg: 1504x1984 6 persons, Done. (0.299s)\n",
            "image 88/235 /content/data/EmptyPart/177.jpg: 1504x1984 3 persons, Done. (0.302s)\n",
            "image 89/235 /content/data/EmptyPart/178.jpg: 1504x1984 1 person, Done. (0.287s)\n",
            "image 90/235 /content/data/EmptyPart/179.jpg: 1120x1984 2 persons, Done. (0.222s)\n",
            "image 91/235 /content/data/EmptyPart/18.jpg: 1504x1984 3 persons, Done. (0.284s)\n",
            "image 92/235 /content/data/EmptyPart/180.jpg: 1120x1984 1 person, Done. (0.232s)\n",
            "image 93/235 /content/data/EmptyPart/181.jpg: 1504x1984 3 persons, Done. (0.298s)\n",
            "image 94/235 /content/data/EmptyPart/182.jpg: 1120x1984 1 person, Done. (0.234s)\n",
            "image 95/235 /content/data/EmptyPart/183.jpg: 1504x1984 1 person, Done. (0.294s)\n",
            "image 96/235 /content/data/EmptyPart/184.jpg: 1120x1984 Done. (0.223s)\n",
            "image 97/235 /content/data/EmptyPart/185.jpg: 1504x1984 2 persons, Done. (0.283s)\n",
            "image 98/235 /content/data/EmptyPart/186.jpg: 1504x1984 2 persons, Done. (0.299s)\n",
            "image 99/235 /content/data/EmptyPart/187.jpg: 1120x1984 1 person, Done. (0.233s)\n",
            "image 100/235 /content/data/EmptyPart/188.jpg: 1120x1984 2 persons, Done. (0.222s)\n",
            "image 101/235 /content/data/EmptyPart/189.jpg: 1504x1984 1 person, Done. (0.284s)\n",
            "image 102/235 /content/data/EmptyPart/19.jpg: 1120x1984 3 persons, Done. (0.226s)\n",
            "image 103/235 /content/data/EmptyPart/190.jpg: 1504x1984 1 person, Done. (0.280s)\n",
            "image 104/235 /content/data/EmptyPart/191.jpg: 1504x1984 9 persons, Done. (0.294s)\n",
            "image 105/235 /content/data/EmptyPart/192.jpg: 1504x1984 2 persons, Done. (0.295s)\n",
            "image 106/235 /content/data/EmptyPart/193.jpg: 1504x1984 3 persons, Done. (0.298s)\n",
            "image 107/235 /content/data/EmptyPart/194.jpg: 1504x1984 3 persons, Done. (0.302s)\n",
            "image 108/235 /content/data/EmptyPart/195.jpg: 1504x1984 3 persons, Done. (0.298s)\n",
            "image 109/235 /content/data/EmptyPart/196.jpg: 1504x1984 7 persons, Done. (0.299s)\n",
            "image 110/235 /content/data/EmptyPart/197.jpg: 1504x1984 1 person, Done. (0.294s)\n",
            "image 111/235 /content/data/EmptyPart/198.jpg: 1120x1984 1 person, Done. (0.227s)\n",
            "image 112/235 /content/data/EmptyPart/199.jpg: 1504x1984 1 person, Done. (0.293s)\n",
            "image 113/235 /content/data/EmptyPart/2.jpg: 1504x1984 7 persons, Done. (0.298s)\n",
            "image 114/235 /content/data/EmptyPart/20.jpg: 1504x1984 5 persons, Done. (0.292s)\n",
            "image 115/235 /content/data/EmptyPart/200.jpg: 1504x1984 6 persons, Done. (0.299s)\n",
            "image 116/235 /content/data/EmptyPart/201.jpg: 1504x1984 8 persons, Done. (0.300s)\n",
            "image 117/235 /content/data/EmptyPart/202.JPG: 1344x1984 4 persons, Done. (0.270s)\n",
            "image 118/235 /content/data/EmptyPart/203.JPG: 1344x1984 4 persons, Done. (0.257s)\n",
            "image 119/235 /content/data/EmptyPart/204.JPG: 1344x1984 6 persons, Done. (0.272s)\n",
            "image 120/235 /content/data/EmptyPart/205.JPG: 1344x1984 4 persons, Done. (0.264s)\n",
            "image 121/235 /content/data/EmptyPart/206.JPG: 1344x1984 8 persons, Done. (0.265s)\n",
            "image 122/235 /content/data/EmptyPart/207.JPG: 1344x1984 2 persons, Done. (0.270s)\n",
            "image 123/235 /content/data/EmptyPart/208.JPG: 1344x1984 Done. (0.259s)\n",
            "image 124/235 /content/data/EmptyPart/209.JPG: 1344x1984 5 persons, Done. (0.260s)\n",
            "image 125/235 /content/data/EmptyPart/21.jpg: 1120x1984 Done. (0.227s)\n",
            "image 126/235 /content/data/EmptyPart/210.JPG: 1344x1984 4 persons, Done. (0.274s)\n",
            "image 127/235 /content/data/EmptyPart/211.JPG: 1344x1984 3 persons, Done. (0.255s)\n",
            "image 128/235 /content/data/EmptyPart/212.JPG: 1344x1984 4 persons, Done. (0.264s)\n",
            "image 129/235 /content/data/EmptyPart/213.JPG: 1344x1984 3 persons, Done. (0.264s)\n",
            "image 130/235 /content/data/EmptyPart/214.JPG: 1344x1984 3 persons, Done. (0.260s)\n",
            "image 131/235 /content/data/EmptyPart/215.JPG: 1344x1984 2 persons, Done. (0.266s)\n",
            "image 132/235 /content/data/EmptyPart/216.JPG: 1344x1984 2 persons, Done. (0.256s)\n",
            "image 133/235 /content/data/EmptyPart/217.JPG: 1344x1984 5 persons, Done. (0.265s)\n",
            "image 134/235 /content/data/EmptyPart/218.JPG: 1344x1984 6 persons, Done. (0.270s)\n",
            "image 135/235 /content/data/EmptyPart/219.JPG: 1344x1984 2 persons, Done. (0.267s)\n",
            "image 136/235 /content/data/EmptyPart/22.jpg: 1504x1984 1 person, Done. (0.303s)\n",
            "image 137/235 /content/data/EmptyPart/220.JPG: 1344x1984 4 persons, Done. (0.272s)\n",
            "image 138/235 /content/data/EmptyPart/221.JPG: 1344x1984 5 persons, Done. (0.266s)\n",
            "image 139/235 /content/data/EmptyPart/222.JPG: 1344x1984 4 persons, Done. (0.270s)\n",
            "image 140/235 /content/data/EmptyPart/223.JPG: 1344x1984 8 persons, Done. (0.262s)\n",
            "image 141/235 /content/data/EmptyPart/224.JPG: 1344x1984 13 persons, Done. (0.268s)\n",
            "image 142/235 /content/data/EmptyPart/225.JPG: 1344x1984 19 persons, Done. (0.268s)\n",
            "image 143/235 /content/data/EmptyPart/226.JPG: 1344x1984 9 persons, Done. (0.256s)\n",
            "image 144/235 /content/data/EmptyPart/227.JPG: 1344x1984 4 persons, Done. (0.260s)\n",
            "image 145/235 /content/data/EmptyPart/228.JPG: 1344x1984 7 persons, Done. (0.266s)\n",
            "image 146/235 /content/data/EmptyPart/229.JPG: 1344x1984 3 persons, Done. (0.270s)\n",
            "image 147/235 /content/data/EmptyPart/23.jpg: 1504x1984 4 persons, Done. (0.292s)\n",
            "image 148/235 /content/data/EmptyPart/230.JPG: 1344x1984 6 persons, Done. (0.268s)\n",
            "image 149/235 /content/data/EmptyPart/231.JPG: 1344x1984 6 persons, Done. (0.258s)\n",
            "image 150/235 /content/data/EmptyPart/232.JPG: 1344x1984 7 persons, Done. (0.267s)\n",
            "image 151/235 /content/data/EmptyPart/233.JPG: 1344x1984 1 person, Done. (0.258s)\n",
            "image 152/235 /content/data/EmptyPart/234.JPG: 1344x1984 9 persons, Done. (0.266s)\n",
            "image 153/235 /content/data/EmptyPart/24.jpg: 1504x1984 9 persons, Done. (0.297s)\n",
            "image 154/235 /content/data/EmptyPart/25.jpg: 1504x1984 2 persons, Done. (0.297s)\n",
            "image 155/235 /content/data/EmptyPart/26.jpg: 1504x1984 1 person, Done. (0.295s)\n",
            "image 156/235 /content/data/EmptyPart/27.jpg: 1504x1984 2 persons, Done. (0.290s)\n",
            "image 157/235 /content/data/EmptyPart/28.jpg: 1504x1984 3 persons, Done. (0.299s)\n",
            "image 158/235 /content/data/EmptyPart/29.jpg: 1120x1984 1 person, Done. (0.232s)\n",
            "image 159/235 /content/data/EmptyPart/3.jpg: 1504x1984 8 persons, Done. (0.296s)\n",
            "image 160/235 /content/data/EmptyPart/30.jpg: 1504x1984 4 persons, Done. (0.298s)\n",
            "image 161/235 /content/data/EmptyPart/31.jpg: 1120x1984 1 person, Done. (0.233s)\n",
            "image 162/235 /content/data/EmptyPart/32.jpg: 1504x1984 3 persons, Done. (0.291s)\n",
            "image 163/235 /content/data/EmptyPart/33.jpg: 1120x1984 2 persons, Done. (0.225s)\n",
            "image 164/235 /content/data/EmptyPart/34.jpg: 1504x1984 3 persons, Done. (0.288s)\n",
            "image 165/235 /content/data/EmptyPart/35.jpg: 1504x1984 1 person, Done. (0.298s)\n",
            "image 166/235 /content/data/EmptyPart/36.jpg: 1504x1984 8 persons, Done. (0.298s)\n",
            "image 167/235 /content/data/EmptyPart/37.jpg: 1504x1984 1 person, Done. (0.299s)\n",
            "image 168/235 /content/data/EmptyPart/38.jpg: 1504x1984 3 persons, Done. (0.301s)\n",
            "image 169/235 /content/data/EmptyPart/39.jpg: 1120x1984 Done. (0.235s)\n",
            "image 170/235 /content/data/EmptyPart/4.jpg: 1504x1984 4 persons, Done. (0.305s)\n",
            "image 171/235 /content/data/EmptyPart/40.jpg: 1504x1984 1 person, Done. (0.296s)\n",
            "image 172/235 /content/data/EmptyPart/41.jpg: 1504x1984 2 persons, Done. (0.296s)\n",
            "image 173/235 /content/data/EmptyPart/42.jpg: 1120x1984 1 person, Done. (0.224s)\n",
            "image 174/235 /content/data/EmptyPart/43.jpg: 1120x1984 Done. (0.220s)\n",
            "image 175/235 /content/data/EmptyPart/44.jpg: 1120x1984 2 persons, Done. (0.225s)\n",
            "image 176/235 /content/data/EmptyPart/45.jpg: 1504x1984 8 persons, Done. (0.300s)\n",
            "image 177/235 /content/data/EmptyPart/46.jpg: 1504x1984 2 persons, Done. (0.299s)\n",
            "image 178/235 /content/data/EmptyPart/47.jpg: 1504x1984 9 persons, Done. (0.298s)\n",
            "image 179/235 /content/data/EmptyPart/48.jpg: 1120x1984 3 persons, Done. (0.232s)\n",
            "image 180/235 /content/data/EmptyPart/49.jpg: 1504x1984 8 persons, Done. (0.296s)\n",
            "image 181/235 /content/data/EmptyPart/5.jpg: 1504x1984 8 persons, Done. (0.296s)\n",
            "image 182/235 /content/data/EmptyPart/50.jpg: 1504x1984 8 persons, Done. (0.296s)\n",
            "image 183/235 /content/data/EmptyPart/51.jpg: 1504x1984 1 person, Done. (0.286s)\n",
            "image 184/235 /content/data/EmptyPart/52.jpg: 1120x1984 2 persons, Done. (0.222s)\n",
            "image 185/235 /content/data/EmptyPart/53.jpg: 1504x1984 2 persons, Done. (0.283s)\n",
            "image 186/235 /content/data/EmptyPart/54.jpg: 1504x1984 1 person, Done. (0.297s)\n",
            "image 187/235 /content/data/EmptyPart/55.jpg: 1504x1984 5 persons, Done. (0.295s)\n",
            "image 188/235 /content/data/EmptyPart/56.jpg: 1504x1984 1 person, Done. (0.288s)\n",
            "image 189/235 /content/data/EmptyPart/57.jpg: 1504x1984 3 persons, Done. (0.292s)\n",
            "image 190/235 /content/data/EmptyPart/58.jpg: 1504x1984 6 persons, Done. (0.295s)\n",
            "image 191/235 /content/data/EmptyPart/59.jpg: 1504x1984 6 persons, Done. (0.300s)\n",
            "image 192/235 /content/data/EmptyPart/6.jpg: 1504x1984 5 persons, Done. (0.284s)\n",
            "image 193/235 /content/data/EmptyPart/60.jpg: 1504x1984 3 persons, Done. (0.292s)\n",
            "image 194/235 /content/data/EmptyPart/61.jpg: 1504x1984 3 persons, Done. (0.293s)\n",
            "image 195/235 /content/data/EmptyPart/62.jpg: 1504x1984 1 person, Done. (0.288s)\n",
            "image 196/235 /content/data/EmptyPart/63.jpg: 1504x1984 1 person, Done. (0.296s)\n",
            "image 197/235 /content/data/EmptyPart/64.jpg: 1504x1984 8 persons, Done. (0.296s)\n",
            "image 198/235 /content/data/EmptyPart/65.jpg: 1504x1984 1 person, Done. (0.293s)\n",
            "image 199/235 /content/data/EmptyPart/66.jpg: 1504x1984 2 persons, Done. (0.298s)\n",
            "image 200/235 /content/data/EmptyPart/67.jpg: 1504x1984 2 persons, Done. (0.286s)\n",
            "image 201/235 /content/data/EmptyPart/68.jpg: 1120x1984 Done. (0.223s)\n",
            "image 202/235 /content/data/EmptyPart/69.jpg: 1504x1984 3 persons, Done. (0.296s)\n",
            "image 203/235 /content/data/EmptyPart/7.jpg: 1504x1984 2 persons, Done. (0.298s)\n",
            "image 204/235 /content/data/EmptyPart/70.jpg: 1120x1984 2 persons, Done. (0.223s)\n",
            "image 205/235 /content/data/EmptyPart/71.jpg: 1120x1984 Done. (0.220s)\n",
            "image 206/235 /content/data/EmptyPart/72.jpg: 1344x1984 1 person, Done. (0.266s)\n",
            "image 207/235 /content/data/EmptyPart/73.jpg: 1504x1984 9 persons, Done. (0.292s)\n",
            "image 208/235 /content/data/EmptyPart/74.jpg: 1504x1984 1 person, Done. (0.292s)\n",
            "image 209/235 /content/data/EmptyPart/75.jpg: 1504x1984 2 persons, Done. (0.301s)\n",
            "image 210/235 /content/data/EmptyPart/76.jpg: 1504x1984 1 person, Done. (0.307s)\n",
            "image 211/235 /content/data/EmptyPart/77.jpg: 1120x1984 1 person, Done. (0.237s)\n",
            "image 212/235 /content/data/EmptyPart/78.jpg: 1504x1984 7 persons, Done. (0.300s)\n",
            "image 213/235 /content/data/EmptyPart/79.jpg: 1504x1984 4 persons, Done. (0.298s)\n",
            "image 214/235 /content/data/EmptyPart/8.jpg: 1120x1984 2 persons, Done. (0.226s)\n",
            "image 215/235 /content/data/EmptyPart/80.jpg: 1120x1984 8 persons, Done. (0.225s)\n",
            "image 216/235 /content/data/EmptyPart/81.jpg: 1504x1984 2 persons, Done. (0.297s)\n",
            "image 217/235 /content/data/EmptyPart/82.jpg: 1504x1984 4 persons, Done. (0.299s)\n",
            "image 218/235 /content/data/EmptyPart/83.jpg: 1504x1984 2 persons, Done. (0.302s)\n",
            "image 219/235 /content/data/EmptyPart/84.jpg: 1504x1984 4 persons, Done. (0.293s)\n",
            "image 220/235 /content/data/EmptyPart/85.jpg: 1120x1984 3 persons, Done. (0.226s)\n",
            "image 221/235 /content/data/EmptyPart/86.jpg: 1120x1984 1 person, Done. (0.228s)\n",
            "image 222/235 /content/data/EmptyPart/87.jpg: 1120x1984 2 persons, Done. (0.223s)\n",
            "image 223/235 /content/data/EmptyPart/88.jpg: 1504x1984 2 persons, Done. (0.279s)\n",
            "image 224/235 /content/data/EmptyPart/89.jpg: 1504x1984 1 person, Done. (0.303s)\n",
            "image 225/235 /content/data/EmptyPart/9.jpg: 1504x1984 1 person, Done. (0.295s)\n",
            "image 226/235 /content/data/EmptyPart/90.jpg: 1504x1984 1 person, Done. (0.293s)\n",
            "image 227/235 /content/data/EmptyPart/91.jpg: 1504x1984 1 person, Done. (0.300s)\n",
            "image 228/235 /content/data/EmptyPart/92.jpg: 1120x1984 1 person, Done. (0.234s)\n",
            "image 229/235 /content/data/EmptyPart/93.jpg: 1504x1984 5 persons, Done. (0.299s)\n",
            "image 230/235 /content/data/EmptyPart/94.jpg: 1504x1984 1 person, Done. (0.290s)\n",
            "image 231/235 /content/data/EmptyPart/95.jpg: 1504x1984 1 person, Done. (0.283s)\n",
            "image 232/235 /content/data/EmptyPart/96.jpg: 1120x1984 2 persons, Done. (0.225s)\n",
            "image 233/235 /content/data/EmptyPart/97.jpg: 1504x1984 3 persons, Done. (0.291s)\n",
            "image 234/235 /content/data/EmptyPart/98.jpg: 1504x1984 5 persons, Done. (0.296s)\n",
            "image 235/235 /content/data/EmptyPart/99.jpg: 1504x1984 1 person, Done. (0.285s)\n",
            "Results saved to \u001b[1mpredict/exp\u001b[0m\n",
            "222 labels saved to predict/exp/labels\n",
            "Done. (144.838s)\n"
          ]
        }
      ]
    },
    {
      "cell_type": "markdown",
      "metadata": {
        "id": "-yNdsC_BEDWi"
      },
      "source": [
        "Создание финального сабмита best_submit.csv"
      ]
    },
    {
      "cell_type": "code",
      "metadata": {
        "id": "eQBHdYRK-so8"
      },
      "source": [
        "def convert_yolo_to_pixels(size,yolo_string):\n",
        "    s=[float(s) for s in  yolo_string.strip().split() ]\n",
        "    center_x=int(s[1]*size[0])\n",
        "    center_y=int(s[2]*size[1])\n",
        "    w=int(s[3]*size[0])\n",
        "    h=int(s[4]*size[1])\n",
        "    x1=int(center_x-w/2)\n",
        "    x2=int(center_x+w/2)\n",
        "    y1=int(center_y-h/2)\n",
        "    y2=int(center_y+h/2)\n",
        "    return (x1,y1),(x2,y2),float(s[5])"
      ],
      "execution_count": 12,
      "outputs": []
    },
    {
      "cell_type": "code",
      "metadata": {
        "id": "fBncw6UpN71c",
        "colab": {
          "base_uri": "https://localhost:8080/"
        },
        "outputId": "e623647a-4d55-4d64-8ea7-4f9a5ce4279f"
      },
      "source": [
        "%%time\n",
        "#Примерное время выполнение -> 1 минута\n",
        "image_path=\"./data/EmptyPart\"\n",
        "labels_path= \"./predict/exp/labels\" #Путь к папке с предсказаниями \n",
        "submit_name=\"best_submit\"\n",
        "submit=submit_name+ \".csv\"\n",
        "f=open(submit,\"w\")\n",
        "f.write(\"id,xmin,ymin,xmax,ymax,score\\n\")\n",
        "labels_list=os.listdir(labels_path)\n",
        "labels_list=sorted([int(c[:c.find(\".\")]) for c in labels_list])\n",
        "for n in labels_list:\n",
        "    try:           \n",
        "      id = str(n)\n",
        "      l=str(n)+\".txt\"\n",
        "      img=cv2.imread(os.path.join(image_path,id+\".jpg\")) \n",
        "      size=(img.shape[1],img.shape[0])    \n",
        "      file_path=os.path.join(labels_path,l)\n",
        "      label=open(os.path.join(labels_path,l))\n",
        "      predicts=[str.strip(s) for s in label.readlines()]\n",
        "    except:\n",
        "      pass\n",
        "    for p in predicts:\n",
        "        list_to_write=[]\n",
        "        p1,p2,score=convert_yolo_to_pixels(size,p)\n",
        "        list_to_write.append(id)\n",
        "        list_to_write.append(str(p1[0]))\n",
        "        list_to_write.append(str(p1[1]))\n",
        "        list_to_write.append(str(p2[0]))\n",
        "        list_to_write.append(str(p2[1]))\n",
        "        list_to_write.append(str(score))\n",
        "        f.write(\",\".join(list_to_write)+\"\\n\")\n",
        "    label.close()\n",
        "f.close()"
      ],
      "execution_count": 22,
      "outputs": [
        {
          "output_type": "stream",
          "name": "stdout",
          "text": [
            "CPU times: user 45.8 s, sys: 631 ms, total: 46.4 s\n",
            "Wall time: 46.2 s\n"
          ]
        }
      ]
    },
    {
      "cell_type": "code",
      "metadata": {
        "id": "WPlQsSpON7y9"
      },
      "source": [
        ""
      ],
      "execution_count": null,
      "outputs": []
    },
    {
      "cell_type": "code",
      "metadata": {
        "id": "0lSyZqdlN7wf"
      },
      "source": [
        ""
      ],
      "execution_count": null,
      "outputs": []
    },
    {
      "cell_type": "code",
      "metadata": {
        "id": "1y7httOAN7uC"
      },
      "source": [
        ""
      ],
      "execution_count": null,
      "outputs": []
    },
    {
      "cell_type": "code",
      "metadata": {
        "id": "hHDHKpL6N7rm"
      },
      "source": [
        ""
      ],
      "execution_count": null,
      "outputs": []
    },
    {
      "cell_type": "code",
      "metadata": {
        "id": "QE1LmCUlN7pS"
      },
      "source": [
        ""
      ],
      "execution_count": null,
      "outputs": []
    },
    {
      "cell_type": "code",
      "metadata": {
        "id": "kJwz3-jpN7mr"
      },
      "source": [
        ""
      ],
      "execution_count": null,
      "outputs": []
    },
    {
      "cell_type": "code",
      "metadata": {
        "id": "s9bxLCjqN7kN"
      },
      "source": [
        ""
      ],
      "execution_count": null,
      "outputs": []
    },
    {
      "cell_type": "code",
      "metadata": {
        "id": "bJYR7vIEN7c8"
      },
      "source": [
        ""
      ],
      "execution_count": null,
      "outputs": []
    }
  ]
}